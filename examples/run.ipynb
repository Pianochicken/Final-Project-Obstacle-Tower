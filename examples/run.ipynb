{
 "cells": [
  {
   "cell_type": "markdown",
   "metadata": {},
   "source": [
    "# Basic Usage Guide for Obstacle Tower Gym Interface"
   ]
  },
  {
   "cell_type": "code",
   "execution_count": null,
   "metadata": {},
   "outputs": [],
   "source": [
    "from obstacle_tower_env import ObstacleTowerEnv, ObstacleTowerEvaluation\n",
    "%matplotlib inline\n",
    "from matplotlib import pyplot as plt\n",
    "from IPython.display import display, clear_output\n",
    "import numpy as np\n",
    "\n",
    "# import matplotlib.pyplot as plt\n",
    "# import matplotlib.animation as animation"
   ]
  },
  {
   "cell_type": "markdown",
   "metadata": {},
   "source": [
    "## Launching the environment\n",
    "Ensure that the Obstacle Tower binary has been downloaded (https://github.com/Unity-Technologies/obstacle-tower-env#download-the-environment), and placed in the correct sub-folder. Here we use the `examples/ObstacleTower` sub-folder."
   ]
  },
  {
   "cell_type": "code",
   "execution_count": null,
   "metadata": {},
   "outputs": [],
   "source": [
    "# Realtime mode determines whether the environment window will render the scene,\n",
    "# as well as whether the environment will run at realtime speed. Set this to `True`\n",
    "# to visual the agent behavior as you would in player mode.\n",
    "\n",
    "env = ObstacleTowerEnv('./ObstacleTower/obstacletower', retro=False, realtime_mode=True)"
   ]
  },
  {
   "cell_type": "markdown",
   "metadata": {},
   "source": [
    "## Environment information\n",
    "We can also set the random seed used to generate the environment, as well as choose a starting floor."
   ]
  },
  {
   "cell_type": "code",
   "execution_count": null,
   "metadata": {},
   "outputs": [],
   "source": [
    "# The environment provided has a MultiDiscrete action space, where the 4 dimensions are:\n",
    "\n",
    "# 0. Movement (No-Op/Forward/Back)\n",
    "# 1. Camera Rotation (No-Op/Counter-Clockwise/Clockwise)\n",
    "# 2. Jump (No-Op/Jump)\n",
    "# 3. Movement (No-Op/Right/Left)\n",
    "print(env.action_space)\n",
    "\n",
    "\n",
    "# The observation space provided includes a 168x168 image (the camera from the simulation)\n",
    "# as well as the number of keys held by the agent (0-5) and the amount of time remaining.\n",
    "print(env.observation_space)"
   ]
  },
  {
   "cell_type": "markdown",
   "metadata": {},
   "source": [
    "## Interacting with the environment"
   ]
  },
  {
   "cell_type": "code",
   "execution_count": null,
   "metadata": {},
   "outputs": [],
   "source": [
    "import numpy as np\n",
    "\n",
    "seed = 5       # seed = np.random.randint(100)\n",
    "env.seed(seed) # Seeds can be chosen from range of 0-100.\n",
    "env.floor(0)   # Floors can be chosen from range of 0-100.\n",
    "obs = env.reset()\n",
    "\n",
    "plt.imshow(obs[0])"
   ]
  },
  {
   "cell_type": "code",
   "execution_count": null,
   "metadata": {},
   "outputs": [],
   "source": [
    "def run_episode(env):\n",
    "    done = False\n",
    "    seed = 5\n",
    "    env.seed(seed)\n",
    "    env.floor(0)\n",
    "    obs = env.reset()\n",
    "    episode_return = 0.0\n",
    "    action=[1, 0, 0, 0]\n",
    "    \n",
    "    while not done:\n",
    "        obs, reward, done, info = env.step(env.action_space.sample())\n",
    "        if not done:\n",
    "            obs, reward, done, info = env.step(action)\n",
    "        episode_return += reward\n",
    "    return episode_return"
   ]
  },
  {
   "cell_type": "code",
   "execution_count": null,
   "metadata": {},
   "outputs": [],
   "source": [
    "##### Run specify step ##### \n",
    "\n",
    "action=[1, 0, 0, 0]\n",
    "r = 0\n",
    "\n",
    "### img ###\n",
    "fig = plt.figure()\n",
    "ims = []\n",
    "\n",
    "\n",
    "# observation = [camera, key, time, floor]\n",
    "# 1 env.step = 50mms\n",
    "for i in range(0, 50):\n",
    "    obs, reward, done, info = env.step(env.action_space.sample())\n",
    "    if not done:\n",
    "        obs, reward, done, info = env.step(action)\n",
    "\n",
    "    # im = plt.imshow(obs[0], animated =False)\n",
    "    # ims.append([im])\n",
    "    # clear_output(True)\n",
    "    # plt.show()\n",
    "    \n",
    "    r += reward\n",
    "    if r>0 :\n",
    "        print(\"Reward: %.2f\" % r)\n",
    "    \n",
    "    if done:\n",
    "        obs = env.reset()\n",
    "        print(\"Result Reward: %.2f\" % r)\n",
    "\n",
    "    ## test ##\n",
    "\n",
    "    # ims is a list of lists, each row is a list of artists to draw in the\n",
    "    # current frame; here we are just animating one artist, the image, in\n",
    "    # each frame\n",
    "    \n",
    "# ani = animation.ArtistAnimation(fig, ims, interval=50, blit=True, repeat = False, repeat_delay=None)\n",
    "\n",
    "# To save the animation, use e.g.\n",
    "# from matplotlib.animation import FFMpegWriter\n",
    "# ani.save(\"movie.mp4\")\n",
    "# writer = FFMpegWriter(fps=15, metadata=dict(artist='Me'), bitrate=1800)\n",
    "# ani.save(\"movie.mp4\", writer=writer)\n",
    "# plt.show()\n",
    "##########"
   ]
  },
  {
   "cell_type": "code",
   "execution_count": null,
   "metadata": {},
   "outputs": [],
   "source": [
    "print(obs)"
   ]
  },
  {
   "cell_type": "code",
   "execution_count": null,
   "metadata": {},
   "outputs": [],
   "source": [
    "env.close()"
   ]
  },
  {
   "cell_type": "code",
   "execution_count": null,
   "metadata": {},
   "outputs": [],
   "source": [
    "##### Run until done ##### \n",
    "\n",
    "#env = ObstacleTowerEnv('./ObstacleTower/obstacletower', retro=False, realtime_mode=True)\n",
    "#env = ObstacleTowerEvaluation(env, eval_seeds)\n",
    "\n",
    "\n",
    "    \n",
    "print(\"Total Reward: \",run_episode(env))"
   ]
  },
  {
   "cell_type": "code",
   "execution_count": null,
   "metadata": {
    "scrolled": false
   },
   "outputs": [],
   "source": [
    "env.close()"
   ]
  },
  {
   "cell_type": "markdown",
   "metadata": {},
   "source": [
    "## Setting environment parameters\n",
    "We can also set the random seed used to generate the environment, as well as choose a starting floor."
   ]
  },
  {
   "cell_type": "code",
   "execution_count": null,
   "metadata": {},
   "outputs": [],
   "source": [
    "# Seeds can be chosen from range of 0-100.\n",
    "env.seed(5)"
   ]
  },
  {
   "cell_type": "code",
   "execution_count": null,
   "metadata": {},
   "outputs": [],
   "source": [
    "# Floors can be chosen from range of 0-100.\n",
    "env.floor(15)"
   ]
  },
  {
   "cell_type": "code",
   "execution_count": null,
   "metadata": {},
   "outputs": [],
   "source": [
    "# Additional reset parameters can be set using a config dictionary\n",
    "# Here we set the agent perspective to first-person mode.\n",
    "config = {'agent-perspective': 1}"
   ]
  },
  {
   "cell_type": "code",
   "execution_count": null,
   "metadata": {},
   "outputs": [],
   "source": [
    "# These parameters won't take place until the next reset.\n",
    "obs = env.reset(config=config)\n",
    "plt.imshow(obs[0])"
   ]
  },
  {
   "cell_type": "markdown",
   "metadata": {},
   "source": [
    "## Evaluation"
   ]
  },
  {
   "cell_type": "code",
   "execution_count": null,
   "metadata": {},
   "outputs": [],
   "source": [
    "from obstacle_tower_env import ObstacleTowerEnv, ObstacleTowerEvaluation\n",
    "%matplotlib inline\n",
    "from matplotlib import pyplot as plt\n",
    "\n",
    "def run_episode(env):\n",
    "    done = False\n",
    "    episode_return = 0.0\n",
    "    \n",
    "    while not done:\n",
    "        action = env.action_space.sample()\n",
    "        obs, reward, done, info = env.step(action)\n",
    "        episode_return += reward\n",
    "    return episode_return"
   ]
  },
  {
   "cell_type": "code",
   "execution_count": null,
   "metadata": {},
   "outputs": [],
   "source": [
    "if __name__ == '__main__':\n",
    "    # In this example we use the seeds used for evaluating submissions \n",
    "    # to the Obstacle Tower Challenge.\n",
    "    #eval_seeds = [1001, 1002, 1003, 1004, 1005]\n",
    "    eval_seeds = [1001]\n",
    "\n",
    "    # Create the ObstacleTowerEnv gym and launch ObstacleTower\n",
    "    env = ObstacleTowerEnv('./ObstacleTower/obstacletower', realtime_mode=False)\n",
    "\n",
    "    # Wrap the environment with the ObstacleTowerEvaluation wrapper\n",
    "    # and provide evaluation seeds.\n",
    "    env = ObstacleTowerEvaluation(env, eval_seeds)\n",
    "\n",
    "    # We can run episodes (in this case with a random policy) until \n",
    "    # the \"evaluation_complete\" flag is True.  Attempting to step or reset after\n",
    "    # all of the evaluation seeds have completed will result in an exception.\n",
    "    while not env.evaluation_complete:\n",
    "        episode_rew = run_episode(env)\n",
    "\n",
    "    # Finally the evaluation results can be fetched as a dictionary from the \n",
    "    # environment wrapper.\n",
    "    print(env.results)\n",
    "\n"
   ]
  },
  {
   "cell_type": "code",
   "execution_count": null,
   "metadata": {},
   "outputs": [],
   "source": [
    "env.close()"
   ]
  },
  {
   "cell_type": "markdown",
   "metadata": {},
   "source": [
    "## Closing the environment"
   ]
  },
  {
   "cell_type": "code",
   "execution_count": null,
   "metadata": {},
   "outputs": [],
   "source": [
    "env.close()"
   ]
  },
  {
   "cell_type": "markdown",
   "metadata": {},
   "source": [
    "## Launching the environment (retro mode)\n",
    "We also provide a `retro mode` which uses observation and action spaces similar to those found in the Arcade Learning Environment (ALE)."
   ]
  },
  {
   "cell_type": "code",
   "execution_count": null,
   "metadata": {},
   "outputs": [],
   "source": [
    "env = ObstacleTowerEnv('./ObstacleTower/obstacletower', retro=True)"
   ]
  },
  {
   "cell_type": "code",
   "execution_count": null,
   "metadata": {},
   "outputs": [],
   "source": [
    "# In retro mode, the observation is an 84x84 image with the time remaining and key count visually embedded.\n",
    "env.observation_space"
   ]
  },
  {
   "cell_type": "markdown",
   "metadata": {},
   "source": [
    "## Interacting with the environment (retro mode)"
   ]
  },
  {
   "cell_type": "code",
   "execution_count": null,
   "metadata": {},
   "outputs": [],
   "source": [
    "obs = env.reset()\n",
    "print(obs.shape)"
   ]
  },
  {
   "cell_type": "code",
   "execution_count": null,
   "metadata": {},
   "outputs": [],
   "source": [
    "obs, reward, done, info = env.step(env.action_space.sample())\n",
    "plt.imshow(obs)"
   ]
  },
  {
   "cell_type": "markdown",
   "metadata": {},
   "source": [
    "## Closing the environment"
   ]
  },
  {
   "cell_type": "code",
   "execution_count": null,
   "metadata": {},
   "outputs": [],
   "source": [
    "env.close()"
   ]
  }
 ],
 "metadata": {
  "kernelspec": {
   "display_name": "Python 3",
   "language": "python",
   "name": "python3"
  },
  "language_info": {
   "codemirror_mode": {
    "name": "ipython",
    "version": 3
   },
   "file_extension": ".py",
   "mimetype": "text/x-python",
   "name": "python",
   "nbconvert_exporter": "python",
   "pygments_lexer": "ipython3",
   "version": "3.6.8"
  }
 },
 "nbformat": 4,
 "nbformat_minor": 4
}
